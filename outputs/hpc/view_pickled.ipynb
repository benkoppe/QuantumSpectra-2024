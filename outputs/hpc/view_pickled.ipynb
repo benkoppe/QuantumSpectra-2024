{
 "cells": [
  {
   "cell_type": "code",
   "execution_count": 13,
   "metadata": {},
   "outputs": [],
   "source": [
    "from dataclasses import dataclass\n",
    "from functools import partial\n",
    "\n",
    "import ipywidgets as widgets\n",
    "import matplotlib.pyplot as plt\n",
    "import numpy as np\n",
    "\n",
    "from run_everything import compute_spectra, VariableArg"
   ]
  },
  {
   "cell_type": "code",
   "execution_count": 14,
   "metadata": {},
   "outputs": [],
   "source": [
    "# Static args\n",
    "\n",
    "COMMON_ARGS = {\n",
    "    \"temperature_kelvin\": 300,\n",
    "    \"mode_frequencies\": [1700, 100],\n",
    "    # \"mode_couplings\": [1.5, 6.67],\n",
    "}\n",
    "\n",
    "TWO_STATE_ARGS = {\n",
    "    \"transfer_integral\": 100,\n",
    "    \"broadening\": 200,\n",
    "    \"mode_basis_sets\": [20, 200],\n",
    "}\n",
    "\n",
    "MLJ_ARGS = {\n",
    "    \"disorder_meV\": 0,\n",
    "    \"basis_size\": 20,\n",
    "}\n",
    "\n",
    "STARK_ARGS = {\n",
    "    \"positive_field_sum_percent\": 0.5,\n",
    "}"
   ]
  },
  {
   "cell_type": "code",
   "execution_count": 15,
   "metadata": {},
   "outputs": [],
   "source": [
    "# Variable args (modified for sliders)\n",
    "\n",
    "@dataclass\n",
    "class VariableSliderArg(VariableArg):\n",
    "    min: float\n",
    "    max: float\n",
    "    default: float\n",
    "\n",
    "    def __init__(self, values, default=None):\n",
    "        self.values = np.array(values)\n",
    "        self.min = np.min(self.values)\n",
    "        self.max = np.max(self.values)\n",
    "        \n",
    "        if default is None:\n",
    "            default = self.values[0]\n",
    "        self.default = default\n",
    "\n",
    "    @classmethod\n",
    "    def from_minmax(cls, min, max, num_points, default=None):\n",
    "        cls_initializer = partial(cls, default=default)\n",
    "        return cls_initializer(np.linspace(min, max, num_points))\n",
    "    \n",
    "    def to_slider(self, name):\n",
    "        return widgets.SelectionSlider(\n",
    "            options=self.values,\n",
    "            value=self.default,\n",
    "            description=name,\n",
    "            disabled=False,\n",
    "            continuous_update=False,\n",
    "            orientation='horizontal',\n",
    "            readout=True\n",
    "        )\n",
    "\n",
    "\n",
    "VARIABLE_ARGS = {\n",
    "    \"energy_gap\": VariableSliderArg([0, 200, 400, 800, 8_000]),\n",
    "    \"g1\": VariableSliderArg([0.7]),\n",
    "    \"g2\": VariableSliderArg.from_minmax(2, 8, 4),\n",
    "    \"positive_field_strength\": VariableSliderArg([0.0, 0.01, 0.1]),\n",
    "    \"field_delta_dipole\": VariableSliderArg.from_minmax(0, 38, 3),\n",
    "    \"field_delta_polarizability\": VariableSliderArg.from_minmax(0, 1_000, 3),\n",
    "}\n"
   ]
  },
  {
   "cell_type": "code",
   "execution_count": 17,
   "metadata": {},
   "outputs": [
    {
     "data": {
      "application/vnd.jupyter.widget-view+json": {
       "model_id": "428306c167564e2081731501bac3b1ee",
       "version_major": 2,
       "version_minor": 0
      },
      "text/plain": [
       "interactive(children=(SelectionSlider(continuous_update=False, description='energy_gap', options=(0, 200, 400,…"
      ]
     },
     "metadata": {},
     "output_type": "display_data"
    },
    {
     "data": {
      "text/plain": [
       "<function __main__.plot(**variable_args)>"
      ]
     },
     "execution_count": 17,
     "metadata": {},
     "output_type": "execute_result"
    }
   ],
   "source": [
    "# Plotting (abs against experiment?)\n",
    "from experiment.sample_experiment import x as x_expr\n",
    "from experiment.sample_experiment import y_smooth as y_expr_smooth\n",
    "\n",
    "def plot(**variable_args):\n",
    "    plt.clf()\n",
    "    \n",
    "    lower_bound = variable_args.pop(\"lower bound\")\n",
    "    \n",
    "    all_args = {\n",
    "        **COMMON_ARGS,\n",
    "        **variable_args,\n",
    "        **TWO_STATE_ARGS,\n",
    "        **MLJ_ARGS,\n",
    "        **STARK_ARGS,\n",
    "    }\n",
    "    \n",
    "    if \"g1\" and \"g2\" in all_args:\n",
    "        g1 = all_args.pop(\"g1\")\n",
    "        g2 = all_args.pop(\"g2\")\n",
    "        all_args[\"mode_couplings\"] = [g1, g2]\n",
    "    \n",
    "    _, _, two_state_stark_spectrum, _ = compute_spectra(all_args, force_loading=True)\n",
    "    \n",
    "    two_state_stark_spectrum = two_state_stark_spectrum.cut_bounds(start_energy=lower_bound)\n",
    "    \n",
    "    plt.plot(two_state_stark_spectrum.energies, two_state_stark_spectrum.intensities)\n",
    "    \n",
    "    # y_expr = y_expr_smooth * np.max(two_state_spectrum.intensities) / np.max(y_expr_smooth)\n",
    "    # plt.plot(x_expr, y_expr, label=\"experiment\")\n",
    "    \n",
    "# add bounds to variable args\n",
    "variable_args = {\n",
    "    **VARIABLE_ARGS,\n",
    "    \"lower bound\": VariableSliderArg.from_minmax(0, 4000, num_points=20),\n",
    "}\n",
    "    \n",
    "widgets.interact(plot, **{k: v.to_slider(k) for k, v in variable_args.items()})"
   ]
  }
 ],
 "metadata": {
  "kernelspec": {
   "display_name": "quantumspectra-2024-ILD9IXV_-py3.11",
   "language": "python",
   "name": "python3"
  },
  "language_info": {
   "codemirror_mode": {
    "name": "ipython",
    "version": 3
   },
   "file_extension": ".py",
   "mimetype": "text/x-python",
   "name": "python",
   "nbconvert_exporter": "python",
   "pygments_lexer": "ipython3",
   "version": "3.11.9"
  }
 },
 "nbformat": 4,
 "nbformat_minor": 2
}
