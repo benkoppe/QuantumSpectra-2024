{
 "cells": [
  {
   "cell_type": "code",
   "execution_count": 4,
   "metadata": {},
   "outputs": [],
   "source": [
    "from quantumspectra_2024.models import TwoStateModel\n",
    "import numpy as np\n",
    "\n",
    "model = TwoStateModel(\n",
    "    temperature_kelvin=0,\n",
    "    transfer_integral=0,\n",
    "    energy_gap=8000,\n",
    "    mode_basis_sets=[10, 10],\n",
    "    mode_frequencies=[1200, 100],\n",
    "    mode_couplings=[0.7, 2.0],\n",
    ")\n",
    "\n",
    "hamiltonian = model.get_hamiltonian()\n",
    "\n",
    "eigenvalues, eigenvectors = hamiltonian.get_diagonalization()\n",
    "\n",
    "eigenvalues, eigenvectors = np.array(eigenvalues), np.array(eigenvectors)\n"
   ]
  }
 ],
 "metadata": {
  "kernelspec": {
   "display_name": ".venv",
   "language": "python",
   "name": "python3"
  },
  "language_info": {
   "codemirror_mode": {
    "name": "ipython",
    "version": 3
   },
   "file_extension": ".py",
   "mimetype": "text/x-python",
   "name": "python",
   "nbconvert_exporter": "python",
   "pygments_lexer": "ipython3",
   "version": "3.12.2"
  }
 },
 "nbformat": 4,
 "nbformat_minor": 2
}
